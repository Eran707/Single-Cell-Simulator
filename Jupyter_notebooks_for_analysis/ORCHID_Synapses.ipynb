{
 "cells": [
  {
   "cell_type": "code",
   "execution_count": 1,
   "id": "1de8536a",
   "metadata": {},
   "outputs": [
    {
     "name": "stdout",
     "output_type": "stream",
     "text": [
      "All relevant classes imported\n"
     ]
    }
   ],
   "source": [
    "try:\n",
    "        \n",
    "    import h5py\n",
    "    import os\n",
    "\n",
    "    import matplotlib.pyplot as mplt\n",
    "    import numpy as np\n",
    "    import seaborn as sns \n",
    "    import ipywidgets as widgets\n",
    "    import matplotlib.path as mpath\n",
    "    import matplotlib.lines as mlines\n",
    "    import matplotlib.patches as mpatches\n",
    "    import matplotlib.ticker as ticker\n",
    "    from matplotlib.collections import PatchCollection\n",
    "    \n",
    "      \n",
    "except ModuleNotFoundError:\n",
    "        print(\"A class you are trying to import is not present in the directory\")\n",
    "    \n",
    "except Exception:\n",
    "        print(\"Something went wrong - modules have not been imported\")\n",
    "\n",
    "else: \n",
    "    print(\"All relevant classes imported\")"
   ]
  },
  {
   "cell_type": "code",
   "execution_count": 2,
   "id": "d06f5631",
   "metadata": {
    "scrolled": false
   },
   "outputs": [
    {
     "name": "stdout",
     "output_type": "stream",
     "text": [
      "/Users/pyjamashark/Dropbox/Research/JVR/Code/Python/HDF5_files\n"
     ]
    },
    {
     "data": {
      "application/vnd.jupyter.widget-view+json": {
       "model_id": "89a56d59c4bd45339128f3ee0f44987e",
       "version_major": 2,
       "version_minor": 0
      },
      "text/plain": [
       "Text(value='test', description='File name')"
      ]
     },
     "metadata": {},
     "output_type": "display_data"
    },
    {
     "data": {
      "application/vnd.jupyter.widget-view+json": {
       "model_id": "334d6351f526458891cc959076756a5a",
       "version_major": 2,
       "version_minor": 0
      },
      "text/plain": [
       "Button(button_style='success', description='Select file', style=ButtonStyle())"
      ]
     },
     "metadata": {},
     "output_type": "display_data"
    },
    {
     "data": {
      "application/vnd.jupyter.widget-view+json": {
       "model_id": "2f20192c1f3344dca73d220fd1e66690",
       "version_major": 2,
       "version_minor": 0
      },
      "text/plain": [
       "Output()"
      ]
     },
     "metadata": {},
     "output_type": "display_data"
    },
    {
     "name": "stdout",
     "output_type": "stream",
     "text": [
      "File found and content loaded into memory\n",
      "100000\n",
      "[0, 20, 40, 60, 80]\n",
      "1999999.9999999998\n",
      "100000\n",
      "100000\n"
     ]
    }
   ],
   "source": [
    "\n",
    "###### #### GUI \n",
    "current_folder = os.getcwd()\n",
    "parent_folder = os.path.dirname(os.path.abspath(current_folder))\n",
    "parent_folder2 = os.path.dirname(os.path.abspath(parent_folder)) #Note that HDF5 files are saved in a folder directly outside the repo as these files can be large.\n",
    "hdf5_folder = os.path.join(parent_folder2, \"HDF5_files\")\n",
    "\n",
    "os.chdir(hdf5_folder)\n",
    "\n",
    "print(hdf5_folder)\n",
    "\n",
    "edt_filename = widgets.Text(description = 'File name', value='test')\n",
    "btn_select = widgets.Button(description = 'Select file',button_style='success')\n",
    "output_file = widgets.Output()\n",
    "\n",
    "display(edt_filename ,btn_select,output_file)\n",
    "\n",
    "\n",
    "def btn_select_clicked(b):\n",
    "    global file_name, df_end, df_start, df_end_flux, df_end_ed, df_end_net_flux\n",
    "    \n",
    "    file_name = edt_filename.value\n",
    "   \n",
    "    try: \n",
    "        with h5py.File(file_name, mode='r') as hdf:\n",
    "            \n",
    "            print(\"File found and content loaded into memory\")\n",
    "            global C, comp_names_arr, intervals, interval_arr, master_arr, t_arr, ED_master_arr,E_group_arr\n",
    "            C = hdf.get('COMPARTMENTS')\n",
    "            C_group_arr =[]\n",
    "            t_arr_bool = True\n",
    "            comp_names_arr= list(C.keys())\n",
    "                        \n",
    "            C1 = C.get(comp_names_arr[0])\n",
    "            \n",
    "            T = hdf.get('TIMING')\n",
    "            total_t = T.get('TOTAL_T')[()]\n",
    "            intervals = T.get('INTERVALS')[()]\n",
    "            dt = T.get(\"DT\")[()]\n",
    "\n",
    "            total_steps = total_t /dt          \n",
    "            interval_step = total_steps / intervals\n",
    "\n",
    "            interval_arr = [round(interval_step * i) for i in range(intervals)]\n",
    "            \n",
    "            master_arr = []\n",
    "            t_arr =[]\n",
    "            \n",
    "            print(intervals)\n",
    "            print(interval_arr[0:5])\n",
    "            print(total_steps)\n",
    "            \n",
    "            ##### LOADING COMPARTMENT DATA\n",
    "            for e in range(len(comp_names_arr)):\n",
    "                C_group = C.get(comp_names_arr[e])\n",
    "                C_group_arr.append(C_group)\n",
    "                print(len(list(C_group.keys())))\n",
    "                data_arr_2 =[]\n",
    "                for j in range(len(list(C_group.keys()))):\n",
    "                    dataset = C_group.get(str(interval_arr[j]))\n",
    "                    \n",
    "                    data_arr = []\n",
    "                    for d in range(len(list(dataset))):\n",
    "                        data_arr.append(dataset[d])\n",
    "                    \n",
    "                    data_arr_2.append(data_arr)\n",
    "            \n",
    "                    if t_arr_bool == True:\n",
    "                        t_arr.append(data_arr[0])         \n",
    "                \n",
    "                master_arr.append(data_arr_2)\n",
    "                t_arr_bool = False\n",
    "            \n",
    "         \n",
    "    except: \n",
    "        raise(\"File not found\")\n",
    "        raise(\"File needs to be in base directory\")\n",
    "\n",
    "\n",
    "        \n",
    "btn_select.on_click(btn_select_clicked)"
   ]
  },
  {
   "cell_type": "code",
   "execution_count": 20,
   "id": "dab880b2",
   "metadata": {},
   "outputs": [
    {
     "data": {
      "image/png": "[encoded data removed]",
      "text/plain": [
       "<Figure size 80x80 with 1 Axes>"
      ]
     },
     "metadata": {},
     "output_type": "display_data"
    }
   ],
   "source": [
    "#################################################################\n",
    "\n",
    "\n",
    "\n",
    "R = 8.31446\n",
    "F: float = 96485.33  # Faraday's constant        C mol-1\n",
    "T = 37 + 273.15\n",
    "RTF = R * T / F\n",
    "\n",
    "#end_int = 979667\n",
    "end_int = len(t_arr)\n",
    "\n",
    "na_arr = [master_arr[0][i][3]*1e3 for i in range(end_int)]\n",
    "k_arr = [master_arr[0][i][4]*1e3 for i in range(end_int)]\n",
    "cl_arr = [master_arr[0][i][5]*1e3 for i in range(end_int)]\n",
    "hco3_arr = [master_arr[0][i][6]*1e3 for i in range(end_int)]\n",
    "h_arr = [master_arr[0][i][7]*1e3 for i in range(end_int)]\n",
    "x_arr = [master_arr[0][i][8]*1e3 for i in range(end_int)]\n",
    "z_arr = [master_arr[0][i][9] for i in range(end_int)]\n",
    "vm_arr = [master_arr[0][i][10]*1e3 for i in range(end_int)]\n",
    "vol_arr = [master_arr[0][i][2]*1e13 for i in range(end_int)]\n",
    "\n",
    "nao_arr = [master_arr[1][i][3]*1e3 for i in range(end_int)]\n",
    "ko_arr = [master_arr[1][i][4]*1e3 for i in range(end_int)]\n",
    "clo_arr = [master_arr[1][i][5]*1e3 for i in range(end_int)]\n",
    "hco3o_arr = [master_arr[1][i][6]*1e3 for i in range(end_int)]\n",
    "xo_arr = [master_arr[1][i][7]*1e3 for i in range(end_int)]\n",
    "zo_arr = [master_arr[1][i][8] for i in range(end_int)]\n",
    "\n",
    "       \n",
    "E_k_arr = [-1 * RTF * np.log(k_arr[i] / ko_arr[i])*1e3 for i in range(end_int)]\n",
    "E_cl_arr = [RTF * np.log(cl_arr[i] / clo_arr[i])*1e3 for i in range(end_int)]\n",
    "E_hco3_arr = [RTF * np.log(hco3_arr[i] / hco3o_arr[i])*1e3 for i in range(end_int)] \n",
    "\n",
    "numerator = [4 / 5 * cl_arr[i] + 1 / 5 * hco3_arr[i] for i in range(end_int)] \n",
    "denominator = [4 / 5 * clo_arr[i] + 1 / 5 * hco3o_arr[i] for i in range(end_int)] \n",
    "E_gaba_arr = [RTF * np.log(numerator[i] / denominator[i])*1e3 for i in range(end_int)]  \n",
    "\n",
    "\n",
    "\n",
    "df_cl_arr = [vm_arr[i] - E_cl_arr[i]  for i in range(end_int)] \n",
    "df_gaba_arr = [vm_arr[i] - E_gaba_arr[i]  for i in range(end_int)] \n",
    "\n",
    "\n",
    "####################################################################\n",
    "# SET TIMING BUFFER\n",
    "\n",
    "tmin_arr =[t_arr[i] for i in range(end_int)]\n",
    "buffer = 0 #50000\n",
    "#back_buffer = len(t_arr) - 4400 \n",
    "back_buffer = 100000\n",
    "####################################################################\n",
    "# DEFINE FIGURE AND AXES \n",
    "\n",
    "f1, ax_1A = mplt.subplots( figsize=(0.8,0.8), sharex=True)\n",
    "sns.set_context('paper')\n",
    "col_arr= [ '#e7298a', '#1b9e77', '#7570b3' ,'#FF5800']\n",
    "\n",
    "###################################################################\n",
    "\n",
    "\n",
    "\n",
    "sns.despine(ax = ax_1A,bottom = False)\n",
    "\n",
    "\n",
    "ax_1A.plot(tmin_arr[buffer:back_buffer], vm_arr[buffer:back_buffer],color='#000000', label ='Vm')\n",
    "#ax_1A.plot(tmin_arr[buffer:], ek_arr[buffer:],color=col_arr[2], label='Ek')\n",
    "ax_1A.plot(tmin_arr[buffer:back_buffer], E_gaba_arr[buffer:back_buffer], color=col_arr[1], label='ECl')\n",
    "\n",
    "\n",
    "#ax_1A.legend(bbox_to_anchor=(0.8,0.4), loc = 'lower left', frameon=False,fontsize=8)\n",
    "\n",
    "ax_1A.set_ylabel(\"Voltage(mv)\",fontsize=6)\n",
    "#ax_1A.set_ylim(-76, -69)\n",
    "\n",
    "#mplt.xticks([])\n",
    "ax_1A.tick_params(axis='both', which='major', labelsize=6)\n",
    "\n",
    "#####################################################################\n",
    "\n",
    "#ax_1A.set_xlabel(\"Time (s)\",fontsize=14)\n",
    "\n",
    "\n",
    "#######################################\n",
    "file_name = \"default_H_small_CO2_hydration_t1_synapse.svg\"\n",
    "current_folder = os.getcwd()\n",
    "# Get the parent folder of the current working directory\n",
    "parent_folder = os.path.dirname(os.path.abspath(current_folder))\n",
    "hdf5_folder = os.path.join(parent_folder, \"Jupyter_outputs\")\n",
    "# Create the \"HDF5_files\" folder if it doesn't exist\n",
    "if not os.path.exists(hdf5_folder):\n",
    "    os.makedirs(hdf5_folder)\n",
    "\n",
    "file_name = os.path.join(hdf5_folder, file_name)\n",
    "\n",
    "f1.savefig(file_name, dpi=2000, bbox_inches='tight')"
   ]
  },
  {
   "cell_type": "code",
   "execution_count": 7,
   "id": "468a1924",
   "metadata": {
    "scrolled": true
   },
   "outputs": [
    {
     "name": "stdout",
     "output_type": "stream",
     "text": [
      "-64.84651172474136\n",
      "-71.24786400395624\n"
     ]
    }
   ],
   "source": [
    "print(max(vm_arr[:]))\n",
    "print(min(vm_arr[:]))"
   ]
  },
  {
   "cell_type": "code",
   "execution_count": 21,
   "id": "c3c00daf",
   "metadata": {},
   "outputs": [
    {
     "data": {
      "text/plain": [
       "'/Users/pyjamashark/Dropbox/Research/JVR/Code/Python/Jupyter_outputs/default_H_small_CO2_hydration_t1_synapse.svg'"
      ]
     },
     "execution_count": 21,
     "metadata": {},
     "output_type": "execute_result"
    }
   ],
   "source": [
    "file_name"
   ]
  },
  {
   "cell_type": "code",
   "execution_count": 5,
   "id": "3037070f",
   "metadata": {},
   "outputs": [
    {
     "data": {
      "text/plain": [
       "100000"
      ]
     },
     "execution_count": 5,
     "metadata": {},
     "output_type": "execute_result"
    }
   ],
   "source": [
    "len(na_arr)"
   ]
  },
  {
   "cell_type": "code",
   "execution_count": 13,
   "id": "743197c5",
   "metadata": {},
   "outputs": [
    {
     "name": "stdout",
     "output_type": "stream",
     "text": [
      "Initial time point @ 8 s\n",
      "\n",
      "[X]o: 0.0 mM ----> 0.0 mM (0.0)\n",
      "zo: 0.01  ----> 0.01  (0.0)\n",
      "----------------------------------------- \n",
      "[Na]i: 14.91 mM ----> 14.99 mM (0.08)\n",
      "[K]i: 122.81 mM ----> 122.72 mM (-0.09)\n",
      "[Cl]i: 5.46 mM ----> 5.51 mM (0.06)\n",
      "[HCO3]i: 10.17 mM ----> 10.1 mM (-0.07)\n",
      "[X]i: 143.65 mM ----> 143.66 mM (0.02)\n",
      "----------------------------------------- \n",
      "Vm: -64.99 mV ----> -65.13 mV (-0.14)\n",
      "EK: -95.09 mV ----> -95.07 mV (0.02)\n",
      "ECl: -80.28 mV ----> -80.01 mV (0.28)\n",
      "EGABA: -71.88 mV ----> -71.75 mV (0.13)\n",
      "DF-Cl: 15.29 mv ----> 14.87 mV (-0.42)\n",
      "DF-GABA: 6.89 mv ----> 6.62 mV (-0.27)\n",
      "----------------------------------------- \n",
      "Volume: 19.12 pL ----> 19.12 pL (-0.0)\n",
      "Final osmo = 28.3903023 mM\n",
      "Final electro = -28.40795 mV\n"
     ]
    }
   ],
   "source": [
    "start_int = 40000\n",
    "\n",
    "print(f\"Initial time point @ {round(t_arr[start_int])} s\")\n",
    "print(\"\")\n",
    "\n",
    "print(f\"[X]o: {round(xo_arr[start_int],2)} mM ----> {round(xo_arr[-1],2)} mM ({round(xo_arr[-1]-xo_arr[start_int],2)})\" )\n",
    "print(f\"zo: {round(zo_arr[start_int],2)}  ----> {round(zo_arr[-1],2) }  ({round(zo_arr[-1]-zo_arr[start_int],2)})\" )\n",
    "print(f\"----------------------------------------- \" )\n",
    "\n",
    "print(f\"[Na]i: {round(na_arr[start_int],2)} mM ----> {round(na_arr[-1],2)} mM ({round(na_arr[-1]-na_arr[start_int],2)})\" )\n",
    "print(f\"[K]i: {round(k_arr[start_int],2)} mM ----> {round(k_arr[-1],2) } mM ({round(k_arr[-1]-k_arr[start_int],2)})\"  )\n",
    "print(f\"[Cl]i: {round(cl_arr[start_int],2)} mM ----> {round(cl_arr[-1],2)} mM ({round(cl_arr[-1]-cl_arr[start_int],2)})\"  )\n",
    "print(f\"[HCO3]i: {round(hco3_arr[start_int],2)} mM ----> {round(hco3_arr[-1],2)} mM ({round(hco3_arr[-1]-hco3_arr[start_int],2)})\"  )\n",
    "print(f\"[X]i: {round(x_arr[start_int],2)} mM ----> {round(x_arr[-1],2)} mM ({round(x_arr[-1]-x_arr[start_int],2)})\" )\n",
    "print(f\"----------------------------------------- \" )\n",
    "\n",
    "print(f\"Vm: {round(vm_arr[start_int],2)} mV ----> {round(vm_arr[-1],2)} mV ({round(vm_arr[-1]-vm_arr[start_int],2)})\" )\n",
    "print(f\"EK: {round(E_k_arr[start_int],2)} mV ----> {round(E_k_arr[-1],2)} mV ({round(E_k_arr[-1]-E_k_arr[start_int],2)})\" )\n",
    "print(f\"ECl: {round(E_cl_arr[start_int],2)} mV ----> {round(E_cl_arr[-1],2)} mV ({round(E_cl_arr[-1]-E_cl_arr[start_int],2)})\" )\n",
    "print(f\"EGABA: {round(E_gaba_arr[start_int],2)} mV ----> {round(E_gaba_arr[-1],2)} mV ({round(E_gaba_arr[-1]-E_gaba_arr[start_int],2)})\" )\n",
    "print(f\"DF-Cl: {round(df_cl_arr[start_int],2)} mv ----> {round(df_cl_arr[-1],2)} mV ({round(df_cl_arr[-1]-df_cl_arr[start_int],2)})\" )\n",
    "print(f\"DF-GABA: {round(df_gaba_arr[start_int],2)} mv ----> {round(df_gaba_arr[-1],2)} mV ({round(df_gaba_arr[-1]-df_gaba_arr[start_int],2)})\" )\n",
    "print(f\"----------------------------------------- \" )\n",
    "print(f\"Volume: {round(vol_arr[start_int],2)} pL ----> {round(vol_arr[-1],2)} pL ({round(vol_arr[-1]-vol_arr[start_int],2)})\" )\n",
    "osmoi = round(na_arr[-1],7) + round(k_arr[-1],7) + round(cl_arr[-1],7) + round(x_arr[-1],7)\n",
    "osmoo = round(nao_arr[-1],7) + round(ko_arr[-1],7) + round(clo_arr[-1],7) + round(xo_arr[-1],7)\n",
    "osmo_diff = round((osmoi - osmoo),7)\n",
    "print(f\"Final osmo = {osmo_diff} mM\")\n",
    "electroi = round(na_arr[-1],7) + round(k_arr[-1],7) - round(cl_arr[-1],7) + (round(x_arr[-1],7)*z_arr[-1])\n",
    "electroo = round(nao_arr[-1],7) + round(ko_arr[-1],7) - round(clo_arr[-1],7) + (round(xo_arr[-1],7)*zo_arr[-1])\n",
    "electro_diff = round((electroi - electroo),5) \n",
    "print(f\"Final electro = {electro_diff} mV\")"
   ]
  },
  {
   "cell_type": "code",
   "execution_count": 7,
   "id": "9304b789",
   "metadata": {},
   "outputs": [
    {
     "name": "stdout",
     "output_type": "stream",
     "text": [
      " Baseline index: 40000\n",
      " Baseline Ecl: -84.264 mV\n",
      " Baseline EGABA: -74.99 mV\n",
      "---\n",
      " Max index: 50000\n",
      " Max Ecl: -84.256 mV\n",
      " Max EGABA: -74.985 mV\n",
      "---\n",
      " Difference in EGABA: 0.005mV\n",
      " % change in EGABA: -0.01%\n",
      "---\n",
      "Baseline Vm -69.335mV\n",
      "Min Vm -69.346mV\n",
      "Difference in Vm -0.011mV\n",
      "% change in Vm: 0.016%\n",
      "---\n"
     ]
    }
   ],
   "source": [
    "baseline_vm = vm_arr[start_int]\n",
    "baseline_ecl = E_cl_arr[start_int]\n",
    "baseline_eGABA = E_gaba_arr[start_int]\n",
    "\n",
    "\n",
    "print(f\" Baseline index: {start_int}\")\n",
    "print(f\" Baseline Ecl: {round(baseline_ecl,3)} mV\")\n",
    "print(f\" Baseline EGABA: {round(baseline_eGABA,3)} mV\")\n",
    "print(f\"---\")\n",
    "\n",
    "\n",
    "max_vm = max(vm_arr[buffer:])\n",
    "max_vm_index = vm_arr.index(max_vm)\n",
    "max_ecl = E_cl_arr[max_vm_index]\n",
    "max_eGABA = E_gaba_arr[max_vm_index]\n",
    "\n",
    "\n",
    "print(f\" Max index: {max_vm_index}\")\n",
    "print(f\" Max Ecl: {round(max_ecl,3)} mV\")\n",
    "print(f\" Max EGABA: {round(max_eGABA,3)} mV\")\n",
    "print(f\"---\")\n",
    "\n",
    "eGABA_diff = round(max_eGABA -baseline_eGABA,3)\n",
    "eGABA_percent_change = round(eGABA_diff/baseline_eGABA * 100,2) \n",
    "print(f\" Difference in EGABA: {eGABA_diff}mV\")\n",
    "print(f\" % change in EGABA: {eGABA_percent_change}%\")\n",
    "print(f\"---\") \n",
    "\n",
    "vm_diff = max_vm-baseline_vm\n",
    "vm_percent_change = vm_diff / baseline_vm *100\n",
    "\n",
    "print(f\"Baseline Vm {round(baseline_vm,3)}mV\")\n",
    "print(f\"Min Vm {round(max_vm,3)}mV\")\n",
    "print(f\"Difference in Vm {round(vm_diff,3)}mV\")\n",
    "print(f\"% change in Vm: {round(vm_percent_change,3)}%\")\n",
    "print(f\"---\") \n"
   ]
  },
  {
   "cell_type": "code",
   "execution_count": 14,
   "id": "d6e7ae5d",
   "metadata": {},
   "outputs": [
    {
     "data": {
      "image/png": "[encoded data removed]",
      "text/plain": [
       "<Figure size 500x600 with 6 Axes>"
      ]
     },
     "metadata": {},
     "output_type": "display_data"
    },
    {
     "data": {
      "image/png": "[encoded data removed]",
      "text/plain": [
       "<Figure size 500x600 with 5 Axes>"
      ]
     },
     "metadata": {},
     "output_type": "display_data"
    }
   ],
   "source": [
    "####################################################################\n",
    "# DEFINE FIGURE AND AXES \n",
    "\n",
    "f1, axs = mplt.subplots(6,1, gridspec_kw={ 'height_ratios': [1, 1,1,1,1,1]}, figsize=(5,6), sharex=True)\n",
    "sns.set_context('paper')\n",
    "col_arr= [ '#e7298a', '#1b9e77', '#7570b3' ,'#FF5800','#e803fc'] #cl,k,na,x,hco3\n",
    "\n",
    "# ##################################################################\n",
    "final =end_int\n",
    "buffer = 0\n",
    "\n",
    "\n",
    "#sns.despine(ax = ax_1A, offset=2)\n",
    "\n",
    "\n",
    "axs[0].plot(t_arr[buffer:final], na_arr[buffer:final],color=col_arr[2], label ='[Na]')\n",
    "axs[1].plot(t_arr[buffer:final], k_arr[buffer:final],color=col_arr[1], label='[K]')\n",
    "axs[2].plot(t_arr[buffer:final], cl_arr[buffer:final], color=col_arr[0], label='[Cl]')\n",
    "axs[3].plot(t_arr[buffer:final], hco3_arr[buffer:final], color=col_arr[4], label='[HCO3-]')\n",
    "axs[4].plot(t_arr[buffer:final], x_arr[buffer:final], color=col_arr[3], label='[X]')\n",
    "axs[5].plot(t_arr[buffer:final], z_arr[buffer:final], color=col_arr[3],linestyle='--', label='z')\n",
    "\n",
    "\n",
    "#ax_1A.tick_params(axis='both', which='major', labelsize=6)\n",
    "\n",
    "#ax_1A.legend(bbox_to_anchor=(1,0.06), loc = 'lower left', frameon=False,fontsize=4)\n",
    "\n",
    "#ax_1A.set_ylabel(\"Voltage(mv)\",fontsize=6)\n",
    "\n",
    "\n",
    "sns.set_context('paper')\n",
    "sns.despine()\n",
    "\n",
    "for ax in axs.flat:\n",
    "    ax.legend(loc='upper right') # Adjust the location and appearance of the legend\n",
    "\n",
    "mplt.tight_layout()\n",
    "\n",
    "\n",
    "f2, axs = mplt.subplots(5,1, gridspec_kw={ 'height_ratios': [1,1, 1,1,1]}, figsize=(5,6), sharex=True)\n",
    "sns.set_context('paper')\n",
    "\n",
    "axs[0].plot(t_arr[buffer:final], vm_arr[buffer:final],color=\"#000000\", label ='Vm')\n",
    "axs[1].plot(t_arr[buffer:final], E_cl_arr[buffer:final],color=col_arr[1], label='E-Cl')\n",
    "axs[2].plot(t_arr[buffer:final], E_hco3_arr[buffer:final], color=col_arr[4], label='E-HCO3')\n",
    "axs[3].plot(t_arr[buffer:final], E_gaba_arr[buffer:final], color=\"#fc0303\", label='E-GABA')\n",
    "axs[4].plot(t_arr[buffer:final], df_cl_arr[buffer:final], color=col_arr[1], linestyle='--',label='DF-Cl')\n",
    "\n",
    "sns.set_context('paper')\n",
    "sns.despine()\n",
    "\n",
    "for ax in axs.flat:\n",
    "    ax.legend(loc='upper right') # Adjust the location and appearance of the legend\n",
    "\n",
    "mplt.tight_layout()\n",
    "\n",
    "#####################################################################\n"
   ]
  },
  {
   "cell_type": "code",
   "execution_count": null,
   "id": "52534bf5",
   "metadata": {},
   "outputs": [],
   "source": []
  }
 ],
 "metadata": {
  "kernelspec": {
   "display_name": "Python 3 (ipykernel)",
   "language": "python",
   "name": "python3"
  },
  "language_info": {
   "codemirror_mode": {
    "name": "ipython",
    "version": 3
   },
   "file_extension": ".py",
   "mimetype": "text/x-python",
   "name": "python",
   "nbconvert_exporter": "python",
   "pygments_lexer": "ipython3",
   "version": "3.11.5"
  }
 },
 "nbformat": 4,
 "nbformat_minor": 5
}
