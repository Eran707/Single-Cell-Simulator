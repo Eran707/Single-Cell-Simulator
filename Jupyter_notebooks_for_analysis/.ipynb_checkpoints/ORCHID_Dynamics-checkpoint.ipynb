{
 "cells": [
  {
   "cell_type": "code",
   "execution_count": 1,
   "id": "1de8536a",
   "metadata": {},
   "outputs": [
    {
     "name": "stdout",
     "output_type": "stream",
     "text": [
      "All relevant classes imported\n"
     ]
    }
   ],
   "source": [
    "try:\n",
    "        \n",
    "    import h5py\n",
    "\n",
    "    import matplotlib.pyplot as mplt\n",
    "    import numpy as np\n",
    "    import seaborn as sns \n",
    "    import ipywidgets as widgets\n",
    "    import matplotlib.path as mpath\n",
    "    import matplotlib.lines as mlines\n",
    "    import matplotlib.patches as mpatches\n",
    "    import matplotlib.ticker as ticker\n",
    "    from matplotlib.collections import PatchCollection\n",
    "    import os\n",
    "   \n",
    "    \n",
    "      \n",
    "except ModuleNotFoundError:\n",
    "        print(\"A class you are trying to import is not present in the directory\")\n",
    "    \n",
    "except Exception:\n",
    "        print(\"Something went wrong - modules have not been imported\")\n",
    "\n",
    "else: \n",
    "    print(\"All relevant classes imported\")"
   ]
  },
  {
   "cell_type": "code",
   "execution_count": 5,
   "id": "90967628",
   "metadata": {},
   "outputs": [
    {
     "data": {
      "text/plain": [
       "'C:\\\\00_ERAN\\\\Academics\\\\ORCHID_v2\\\\HDF5_files'"
      ]
     },
     "execution_count": 5,
     "metadata": {},
     "output_type": "execute_result"
    }
   ],
   "source": []
  },
  {
   "cell_type": "code",
   "execution_count": 70,
   "id": "d06f5631",
   "metadata": {
    "scrolled": false
   },
   "outputs": [
    {
     "data": {
      "application/vnd.jupyter.widget-view+json": {
       "model_id": "a137f6cf3623479e8bc68a7b591e7fe2",
       "version_major": 2,
       "version_minor": 0
      },
      "text/plain": [
       "Text(value='test', description='File name')"
      ]
     },
     "metadata": {},
     "output_type": "display_data"
    },
    {
     "data": {
      "application/vnd.jupyter.widget-view+json": {
       "model_id": "6296a00b8a724e0a97142e70d75c250a",
       "version_major": 2,
       "version_minor": 0
      },
      "text/plain": [
       "Button(button_style='success', description='Select file', style=ButtonStyle())"
      ]
     },
     "metadata": {},
     "output_type": "display_data"
    },
    {
     "data": {
      "application/vnd.jupyter.widget-view+json": {
       "model_id": "bc4c61ac34de422c92736bc21ee94440",
       "version_major": 2,
       "version_minor": 0
      },
      "text/plain": [
       "Output()"
      ]
     },
     "metadata": {},
     "output_type": "display_data"
    },
    {
     "name": "stdout",
     "output_type": "stream",
     "text": [
      "File found and content loaded into memory\n",
      "1000\n",
      "[0, 1000, 2000, 3000, 4000]\n",
      "999999.9999999999\n",
      "1000\n",
      "1000\n"
     ]
    }
   ],
   "source": [
    "###### #### GUI \n",
    "current_folder = os.getcwd()\n",
    "parent_folder = os.path.dirname(os.path.abspath(current_folder))\n",
    "parent_folder2 = os.path.dirname(os.path.abspath(parent_folder)) #Note that HDF5 files are saved in a folder directly outside the repo as these files can be large.\n",
    "hdf5_folder = os.path.join(parent_folder2, \"HDF5_files\")\n",
    "\n",
    "os.chdir(new_directory)\n",
    "\n",
    "\n",
    "edt_filename = widgets.Text(description = 'File name', value='test')\n",
    "btn_select = widgets.Button(description = 'Select file',button_style='success')\n",
    "output_file = widgets.Output()\n",
    "\n",
    "display(edt_filename ,btn_select,output_file)\n",
    "\n",
    "\n",
    "def btn_select_clicked(b):\n",
    "    global file_name, df_end, df_start, df_end_flux, df_end_ed, df_end_net_flux\n",
    "    \n",
    "    file_name = edt_filename.value\n",
    "   \n",
    "    try: \n",
    "        with h5py.File(file_name, mode='r') as hdf:\n",
    "            \n",
    "            print(\"File found and content loaded into memory\")\n",
    "            global C, comp_names_arr, intervals, interval_arr, master_arr, t_arr, ED_master_arr,E_group_arr\n",
    "            C = hdf.get('COMPARTMENTS')\n",
    "            C_group_arr =[]\n",
    "            t_arr_bool = True\n",
    "            comp_names_arr= list(C.keys())\n",
    "                        \n",
    "            C1 = C.get(comp_names_arr[0])\n",
    "            \n",
    "            T = hdf.get('TIMING')\n",
    "            total_t = T.get('TOTAL_T')[()]\n",
    "            intervals = T.get('INTERVALS')[()]\n",
    "            dt = T.get(\"DT\")[()]\n",
    "\n",
    "            total_steps = total_t /dt          \n",
    "            interval_step = total_steps / intervals\n",
    "\n",
    "            interval_arr = [round(interval_step * i) for i in range(intervals)]\n",
    "            \n",
    "            master_arr = []\n",
    "            t_arr =[]\n",
    "            \n",
    "            print(intervals)\n",
    "            print(interval_arr[0:5])\n",
    "            print(total_steps)\n",
    "            \n",
    "            ##### LOADING COMPARTMENT DATA\n",
    "            for e in range(len(comp_names_arr)):\n",
    "                C_group = C.get(comp_names_arr[e])\n",
    "                C_group_arr.append(C_group)\n",
    "                print(len(list(C_group.keys())))\n",
    "                data_arr_2 =[]\n",
    "                for j in range(len(list(C_group.keys()))):\n",
    "                    dataset = C_group.get(str(interval_arr[j]))\n",
    "                    \n",
    "                    data_arr = []\n",
    "                    for d in range(len(list(dataset))):\n",
    "                        data_arr.append(dataset[d])\n",
    "                    \n",
    "                    data_arr_2.append(data_arr)\n",
    "            \n",
    "                    if t_arr_bool == True:\n",
    "                        t_arr.append(data_arr[0])         \n",
    "                \n",
    "                master_arr.append(data_arr_2)\n",
    "                t_arr_bool = False\n",
    "            \n",
    "         \n",
    "    except: \n",
    "        raise(\"File not found\")\n",
    "        raise(\"File needs to be in base directory\")\n",
    "\n",
    "\n",
    "btn_select.on_click(btn_select_clicked)"
   ]
  },
  {
   "cell_type": "markdown",
   "id": "d2ceb24c",
   "metadata": {},
   "source": [
    "## Global dynamics"
   ]
  },
  {
   "cell_type": "code",
   "execution_count": 71,
   "id": "dab880b2",
   "metadata": {
    "scrolled": false
   },
   "outputs": [
    {
     "data": {
      "text/plain": [
       "'\\nsns.despine(ax = ax_2A, offset=2)\\n\\nsns.set_context(\\'paper\\')\\nax_2A.plot(tmin_arr[buffer:], cl_arr[buffer:],color=col_arr[1], label = \\'[Cl]i\\')\\n\\n\\nax_2A.set_ylabel(\"[Cl]i (mM)\",fontsize=6)\\n\\nax_2A.set_xlabel(\"Time (min)\",fontsize=6)\\n\\nax_2A.tick_params(axis=\\'both\\', which=\\'major\\', labelsize=6)\\n\\n\\nmplt.subplots_adjust(hspace=0.35) \\n\\n#######################################\\n\\n#f1.savefig(\\'ORCHID_z_change.svg\\', dpi=2000, bbox_inches=\\'tight\\')\\n'"
      ]
     },
     "execution_count": 71,
     "metadata": {},
     "output_type": "execute_result"
    },
    {
     "data": {
      "image/png": "[encoded data removed]",
      "text/plain": [
       "<Figure size 360x432 with 6 Axes>"
      ]
     },
     "metadata": {
      "needs_background": "light"
     },
     "output_type": "display_data"
    },
    {
     "data": {
      "image/png": "[encoded data removed]",
      "text/plain": [
       "<Figure size 360x432 with 5 Axes>"
      ]
     },
     "metadata": {
      "needs_background": "light"
     },
     "output_type": "display_data"
    }
   ],
   "source": [
    "#################################################################\n",
    "# DEFINE DATA\n",
    "\n",
    "\n",
    "R = 8.31446\n",
    "F: float = 96485.33  # Faraday's constant        C mol-1\n",
    "T = 37 + 273.15\n",
    "RTF = R * T / F\n",
    "\n",
    "\n",
    "na_arr = [master_arr[0][i][3]*1e3 for i in range(len(t_arr))]\n",
    "k_arr = [master_arr[0][i][4]*1e3 for i in range(len(t_arr))]\n",
    "cl_arr = [master_arr[0][i][5]*1e3 for i in range(len(t_arr))]\n",
    "hco3_arr = [master_arr[0][i][6]*1e3 for i in range(len(t_arr))]\n",
    "x_arr = [master_arr[0][i][7]*1e3 for i in range(len(t_arr))]\n",
    "z_arr = [master_arr[0][i][8] for i in range(len(t_arr))]\n",
    "vm_arr = [master_arr[0][i][9]*1e3 for i in range(len(t_arr))]\n",
    "vol_arr = [master_arr[0][i][2]*1e13 for i in range(len(t_arr))]\n",
    "\n",
    "nao_arr = [master_arr[1][i][3]*1e3 for i in range(len(t_arr))]\n",
    "ko_arr = [master_arr[1][i][4]*1e3 for i in range(len(t_arr))]\n",
    "clo_arr = [master_arr[1][i][5]*1e3 for i in range(len(t_arr))]\n",
    "hco3o_arr = [master_arr[1][i][6]*1e3 for i in range(len(t_arr))]\n",
    "xo_arr = [master_arr[1][i][7]*1e3 for i in range(len(t_arr))]\n",
    "zo_arr = [master_arr[1][i][8] for i in range(len(t_arr))]\n",
    "\n",
    "       \n",
    "E_k_arr = [-1 * RTF * np.log(k_arr[i] / ko_arr[i])*1e3 for i in range(len(t_arr))]\n",
    "E_cl_arr = [RTF * np.log(cl_arr[i] / clo_arr[i])*1e3 for i in range(len(t_arr))]\n",
    "E_hco3_arr = [RTF * np.log(hco3_arr[i] / hco3o_arr[i])*1e3 for i in range(len(t_arr))] \n",
    "\n",
    "numerator = [4 / 5 * cl_arr[i] + 1 / 5 * hco3_arr[i] for i in range(len(t_arr))] \n",
    "denominator = [4 / 5 * clo_arr[i] + 1 / 5 * hco3o_arr[i] for i in range(len(t_arr))] \n",
    "E_gaba_arr = [RTF * np.log(numerator[i] / denominator[i])*1e3 for i in range(len(t_arr))]   \n",
    "\n",
    "\n",
    "df_cl_arr = [vm_arr[i] - E_cl_arr[i]  for i in range(len(t_arr))] \n",
    "df_gaba_arr = [vm_arr[i] - E_gaba_arr[i]  for i in range(len(t_arr))] \n",
    "\n",
    "\n",
    "####################################################################\n",
    "# SET TIMING BUFFER\n",
    "\n",
    "#tmin_arr = [t_arr[i]/60 for i in range(len(t_arr))]\n",
    "\n",
    "buffer = 50\n",
    "final = -1\n",
    "####################################################################\n",
    "# DEFINE FIGURE AND AXES \n",
    "\n",
    "f1, axs = mplt.subplots(6,1, gridspec_kw={ 'height_ratios': [1, 1,1,1,1,1]}, figsize=(5,6), sharex=True)\n",
    "sns.set_context('paper')\n",
    "col_arr= [ '#e7298a', '#1b9e77', '#7570b3' ,'#FF5800','#e803fc'] #cl,k,na,x,hco3\n",
    "\n",
    "# ##################################################################\n",
    "\n",
    "\n",
    "\n",
    "#sns.despine(ax = ax_1A, offset=2)\n",
    "\n",
    "\n",
    "axs[0].plot(t_arr[buffer:final], na_arr[buffer:final],color=col_arr[2], label ='[Na]')\n",
    "axs[1].plot(t_arr[buffer:final], k_arr[buffer:final],color=col_arr[1], label='[K]')\n",
    "axs[2].plot(t_arr[buffer:final], cl_arr[buffer:final], color=col_arr[0], label='[Cl]')\n",
    "axs[3].plot(t_arr[buffer:final], hco3_arr[buffer:final], color=col_arr[4], label='[HCO3-]')\n",
    "axs[4].plot(t_arr[buffer:final], x_arr[buffer:final], color=col_arr[3], label='[X]')\n",
    "axs[5].plot(t_arr[buffer:final], z_arr[buffer:final], color=col_arr[3],linestyle='--', label='z')\n",
    "\n",
    "\n",
    "#ax_1A.tick_params(axis='both', which='major', labelsize=6)\n",
    "\n",
    "#ax_1A.legend(bbox_to_anchor=(1,0.06), loc = 'lower left', frameon=False,fontsize=4)\n",
    "\n",
    "#ax_1A.set_ylabel(\"Voltage(mv)\",fontsize=6)\n",
    "\n",
    "\n",
    "sns.set_context('paper')\n",
    "sns.despine()\n",
    "\n",
    "for ax in axs.flat:\n",
    "    ax.legend(loc='upper right') # Adjust the location and appearance of the legend\n",
    "\n",
    "mplt.tight_layout()\n",
    "\n",
    "\n",
    "f2, axs = mplt.subplots(5,1, gridspec_kw={ 'height_ratios': [1,1, 1,1,1]}, figsize=(5,6), sharex=True)\n",
    "sns.set_context('paper')\n",
    "\n",
    "axs[0].plot(t_arr[buffer:final], vm_arr[buffer:final],color=\"#000000\", label ='Vm')\n",
    "axs[1].plot(t_arr[buffer:final], E_cl_arr[buffer:final],color=col_arr[1], label='E-Cl')\n",
    "axs[2].plot(t_arr[buffer:final], E_hco3_arr[buffer:final], color=col_arr[4], label='E-HCO3')\n",
    "axs[3].plot(t_arr[buffer:final], E_gaba_arr[buffer:final], color=\"#fc0303\", label='E-GABA')\n",
    "axs[4].plot(t_arr[buffer:final], df_cl_arr[buffer:final], color=col_arr[1], linestyle='--',label='DF-Cl')\n",
    "\n",
    "sns.set_context('paper')\n",
    "sns.despine()\n",
    "\n",
    "for ax in axs.flat:\n",
    "    ax.legend(loc='upper right') # Adjust the location and appearance of the legend\n",
    "\n",
    "mplt.tight_layout()\n",
    "\n",
    "#####################################################################\n",
    "\n",
    "\n",
    "'''\n",
    "sns.despine(ax = ax_2A, offset=2)\n",
    "\n",
    "sns.set_context('paper')\n",
    "ax_2A.plot(tmin_arr[buffer:], cl_arr[buffer:],color=col_arr[1], label = '[Cl]i')\n",
    "\n",
    "\n",
    "ax_2A.set_ylabel(\"[Cl]i (mM)\",fontsize=6)\n",
    "\n",
    "ax_2A.set_xlabel(\"Time (min)\",fontsize=6)\n",
    "\n",
    "ax_2A.tick_params(axis='both', which='major', labelsize=6)\n",
    "\n",
    "\n",
    "mplt.subplots_adjust(hspace=0.35) \n",
    "\n",
    "#######################################\n",
    "\n",
    "#f1.savefig('ORCHID_z_change.svg', dpi=2000, bbox_inches='tight')\n",
    "'''"
   ]
  },
  {
   "cell_type": "code",
   "execution_count": 72,
   "id": "bec56bb2",
   "metadata": {},
   "outputs": [
    {
     "data": {
      "text/plain": [
       "1000"
      ]
     },
     "execution_count": 72,
     "metadata": {},
     "output_type": "execute_result"
    }
   ],
   "source": [
    "len(t_arr)"
   ]
  },
  {
   "cell_type": "code",
   "execution_count": 73,
   "id": "0f5f2f7e",
   "metadata": {
    "scrolled": false
   },
   "outputs": [
    {
     "name": "stdout",
     "output_type": "stream",
     "text": [
      "Initial time point @ 0 s\n",
      "\n",
      "[X]o: 7.5 mM ----> 7.5 mM (0.0)\n",
      "zo: -1.0  ----> -1.0  (0.0)\n",
      "----------------------------------------- \n",
      "[Na]i: 14.75 mM ----> 14.76 mM (0.01)\n",
      "[K]i: 123.28 mM ----> 123.18 mM (-0.1)\n",
      "[Cl]i: 9.61 mM ----> 9.4 mM (-0.22)\n",
      "[HCO3]i: 9.78 mM ----> 9.78 mM (0.0)\n",
      "[X]i: 139.58 mM ----> 139.73 mM (0.15)\n",
      "zi: -0.85 mM ----> -0.85 mM (0.0)\n",
      "----------------------------------------- \n",
      "Vm: -65.14 mV ----> -64.93 mV (0.21)\n",
      "EK: -95.19 mV ----> -95.17 mV (0.02)\n",
      "ECl: -65.14 mV ----> -65.75 mV (-0.61)\n",
      "EGABA: -60.9 mV ----> -61.39 mV (-0.49)\n",
      "DF-Cl: 0.0 mv ----> 0.82 mV (0.82)\n",
      "DF-GABA: -4.24 mv ----> -3.54 mV (0.7)\n",
      "----------------------------------------- \n",
      "Volume: 21.79 pL ----> 21.77 pL (-0.02)\n",
      "Final osmo = 21.0699019 mM\n",
      "Final electro = -21.2253 mV\n"
     ]
    }
   ],
   "source": [
    "start_int = 0\n",
    "\n",
    "print(f\"Initial time point @ {round(t_arr[start_int])} s\")\n",
    "print(\"\")\n",
    "\n",
    "print(f\"[X]o: {round(xo_arr[start_int],2)} mM ----> {round(xo_arr[-1],2)} mM ({round(xo_arr[-1]-xo_arr[start_int],2)})\" )\n",
    "print(f\"zo: {round(zo_arr[start_int],2)}  ----> {round(zo_arr[-1],2) }  ({round(zo_arr[-1]-zo_arr[start_int],2)})\" )\n",
    "print(f\"----------------------------------------- \" )\n",
    "\n",
    "print(f\"[Na]i: {round(na_arr[start_int],2)} mM ----> {round(na_arr[-1],2)} mM ({round(na_arr[-1]-na_arr[start_int],2)})\" )\n",
    "print(f\"[K]i: {round(k_arr[start_int],2)} mM ----> {round(k_arr[-1],2) } mM ({round(k_arr[-1]-k_arr[start_int],2)})\"  )\n",
    "print(f\"[Cl]i: {round(cl_arr[start_int],2)} mM ----> {round(cl_arr[-1],2)} mM ({round(cl_arr[-1]-cl_arr[start_int],2)})\"  )\n",
    "print(f\"[HCO3]i: {round(hco3_arr[start_int],2)} mM ----> {round(hco3_arr[-1],2)} mM ({round(hco3_arr[-1]-hco3_arr[start_int],2)})\"  )\n",
    "print(f\"[X]i: {round(x_arr[start_int],2)} mM ----> {round(x_arr[-1],2)} mM ({round(x_arr[-1]-x_arr[start_int],2)})\" )\n",
    "print(f\"zi: {round(z_arr[start_int],2)} mM ----> {round(z_arr[-1],2)} mM ({round(z_arr[-1]-z_arr[start_int],2)})\" )\n",
    "print(f\"----------------------------------------- \" )\n",
    "\n",
    "print(f\"Vm: {round(vm_arr[start_int],2)} mV ----> {round(vm_arr[-1],2)} mV ({round(vm_arr[-1]-vm_arr[start_int],2)})\" )\n",
    "print(f\"EK: {round(E_k_arr[start_int],2)} mV ----> {round(E_k_arr[-1],2)} mV ({round(E_k_arr[-1]-E_k_arr[start_int],2)})\" )\n",
    "print(f\"ECl: {round(E_cl_arr[start_int],2)} mV ----> {round(E_cl_arr[-1],2)} mV ({round(E_cl_arr[-1]-E_cl_arr[start_int],2)})\" )\n",
    "print(f\"EGABA: {round(E_gaba_arr[start_int],2)} mV ----> {round(E_gaba_arr[-1],2)} mV ({round(E_gaba_arr[-1]-E_gaba_arr[start_int],2)})\" )\n",
    "print(f\"DF-Cl: {round(df_cl_arr[start_int],2)} mv ----> {round(df_cl_arr[-1],2)} mV ({round(df_cl_arr[-1]-df_cl_arr[start_int],2)})\" )\n",
    "print(f\"DF-GABA: {round(df_gaba_arr[start_int],2)} mv ----> {round(df_gaba_arr[-1],2)} mV ({round(df_gaba_arr[-1]-df_gaba_arr[start_int],2)})\" )\n",
    "print(f\"----------------------------------------- \" )\n",
    "print(f\"Volume: {round(vol_arr[start_int],2)} pL ----> {round(vol_arr[-1],2)} pL ({round(vol_arr[-1]-vol_arr[start_int],2)})\" )\n",
    "osmoi = round(na_arr[-1],7) + round(k_arr[-1],7) + round(cl_arr[-1],7) + round(x_arr[-1],7)\n",
    "osmoo = round(nao_arr[-1],7) + round(ko_arr[-1],7) + round(clo_arr[-1],7) + round(xo_arr[-1],7)\n",
    "osmo_diff = round((osmoi - osmoo),7)\n",
    "print(f\"Final osmo = {osmo_diff} mM\")\n",
    "electroi = round(na_arr[-1],7) + round(k_arr[-1],7) - round(cl_arr[-1],7) + (round(x_arr[-1],7)*z_arr[-1])\n",
    "electroo = round(nao_arr[-1],7) + round(ko_arr[-1],7) - round(clo_arr[-1],7) + (round(xo_arr[-1],7)*zo_arr[-1])\n",
    "electro_diff = round((electroi - electroo),5) \n",
    "print(f\"Final electro = {electro_diff} mV\")"
   ]
  },
  {
   "cell_type": "code",
   "execution_count": 74,
   "id": "468a1924",
   "metadata": {},
   "outputs": [
    {
     "name": "stdout",
     "output_type": "stream",
     "text": [
      "-64.26118116699531\n"
     ]
    }
   ],
   "source": [
    "print(max(vm_arr[buffer:]))"
   ]
  },
  {
   "cell_type": "code",
   "execution_count": 78,
   "id": "8a0cd63d",
   "metadata": {},
   "outputs": [
    {
     "data": {
      "text/plain": [
       "2539682.4603174604"
      ]
     },
     "execution_count": 78,
     "metadata": {},
     "output_type": "execute_result"
    }
   ],
   "source": [
    "def rev_rate(forward_rate):\n",
    "    return(-5e-11+forward_rate*0.0016)/(0.01*6.3e-8)\n",
    "\n",
    "rev_rate(1)"
   ]
  },
  {
   "cell_type": "markdown",
   "id": "3d673b64",
   "metadata": {},
   "source": [
    "# Dynamics figures"
   ]
  },
  {
   "cell_type": "markdown",
   "id": "aa834c41",
   "metadata": {},
   "source": [
    "## Flexible y-axes"
   ]
  },
  {
   "cell_type": "code",
   "execution_count": 76,
   "id": "3037070f",
   "metadata": {},
   "outputs": [
    {
     "data": {
      "image/png": "[encoded data removed]",
      "text/plain": [
       "<Figure size 79.2x86.4 with 2 Axes>"
      ]
     },
     "metadata": {
      "needs_background": "light"
     },
     "output_type": "display_data"
    }
   ],
   "source": [
    "####################################################################\n",
    "# SET TIMING BUFFER\n",
    "\n",
    "tmin_arr = [t_arr[i]/60 for i in range(len(t_arr))]\n",
    "buffer = 0\n",
    "final = -1\n",
    "####################################################################\n",
    "# DEFINE FIGURE AND AXES \n",
    "\n",
    "f1, [ax_1A, ax_2A] = mplt.subplots(2,1, gridspec_kw={ 'height_ratios': [1, 0.3]}, figsize=(1.1,1.2), sharex=True)\n",
    "sns.set_context('paper')\n",
    "col_arr= [ '#e7298a', '#1b9e77', '#7570b3' ,'#FF5800']\n",
    "\n",
    "###################################################################\n",
    "\n",
    "\n",
    "\n",
    "sns.despine(ax = ax_1A, offset=2)\n",
    "\n",
    "\n",
    "ax_1A.plot(tmin_arr[buffer:final], vm_arr[buffer:final],color='#000000', label ='Vm')\n",
    "#ax_1A.plot(tmin_arr[buffer:final], E_k_arr[buffer:],color=col_arr[2], label='Ek')\n",
    "#ax_1A.plot(tmin_arr[buffer:final], E_cl_arr[buffer:], color=col_arr[1], label='ECl')\n",
    "ax_1A.plot(tmin_arr[buffer:final], E_gaba_arr[buffer:final], color='red', label='EGABA')\n",
    "ax_1A.tick_params(axis='both', which='major', labelsize=6)\n",
    "\n",
    "ax_1A.legend(bbox_to_anchor=(1,0.06), loc = 'lower left', frameon=False,fontsize=6)\n",
    "\n",
    "ax_1A.set_ylabel(\"Voltage(mv)\",fontsize=6)\n",
    "\n",
    "#ax_1A.set_ylim(-75,-60)\n",
    "ax_1A.set_ylim(-77,-60)\n",
    "custom_tick_positions = [50, 100, 150]\n",
    "custom_tick_labels = ['50', '100', '150']\n",
    "ax_1A.set_xticks(custom_tick_positions)\n",
    "ax_1A.set_xticklabels(custom_tick_labels)\n",
    "\n",
    "sns.set_context('paper')\n",
    "\n",
    "#####################################################################\n",
    "\n",
    "\n",
    "\n",
    "sns.despine(ax = ax_2A, offset=2)\n",
    "\n",
    "sns.set_context('paper')\n",
    "ax_2A.plot(tmin_arr[buffer:final], cl_arr[buffer:final],color=col_arr[1], label = '[Cl]i')\n",
    "\n",
    "\n",
    "ax_2A.set_ylabel(\"[Cl]i (mM)\",fontsize=6)\n",
    "\n",
    "ax_2A.set_xlabel(\"Time (min)\",fontsize=6)\n",
    "\n",
    "ax_2A.tick_params(axis='both', which='major', labelsize=6)\n",
    "\n",
    "# Set y-axis limits\n",
    "#ax_2A.set_ylim(3, 12)\n",
    "\n",
    "\n",
    "mplt.subplots_adjust(hspace=0.35) \n",
    "\n",
    "#######################################\n",
    "\n",
    "\n",
    "file_name = \"ORCHID_dynamicBicarb_zChange.svg\"\n",
    "current_folder = os.getcwd()\n",
    "# Get the parent folder of the current working directory\n",
    "parent_folder = os.path.dirname(os.path.abspath(current_folder))\n",
    "hdf5_folder = os.path.join(parent_folder, \"Jupyter_outputs\")\n",
    "# Create the \"HDF5_files\" folder if it doesn't exist\n",
    "if not os.path.exists(hdf5_folder):\n",
    "    os.makedirs(hdf5_folder)\n",
    "\n",
    "file_name = os.path.join(hdf5_folder, file_name)\n",
    "\n",
    "#f1.savefig(file_name, dpi=2000, bbox_inches='tight')"
   ]
  },
  {
   "cell_type": "markdown",
   "id": "9901443d",
   "metadata": {},
   "source": [
    "## Fixed y-axes"
   ]
  },
  {
   "cell_type": "code",
   "execution_count": 11,
   "id": "4c86cc51",
   "metadata": {},
   "outputs": [
    {
     "data": {
      "image/png": "[encoded data removed]",
      "text/plain": [
       "<Figure size 79.2x86.4 with 2 Axes>"
      ]
     },
     "metadata": {
      "needs_background": "light"
     },
     "output_type": "display_data"
    }
   ],
   "source": [
    "####################################################################\n",
    "# SET TIMING BUFFER\n",
    "\n",
    "tmin_arr = [t_arr[i]/60 for i in range(len(t_arr))]\n",
    "buffer = 100\n",
    "final = -1\n",
    "####################################################################\n",
    "# DEFINE FIGURE AND AXES \n",
    "\n",
    "f1, [ax_1A, ax_2A] = mplt.subplots(2,1, gridspec_kw={ 'height_ratios': [1, 0.3]}, figsize=(1.1,1.2), sharex=True)\n",
    "sns.set_context('paper')\n",
    "col_arr= [ '#e7298a', '#1b9e77', '#7570b3' ,'#FF5800']\n",
    "\n",
    "###################################################################\n",
    "\n",
    "\n",
    "\n",
    "sns.despine(ax = ax_1A, offset=2)\n",
    "\n",
    "\n",
    "ax_1A.plot(tmin_arr[buffer:final], vm_arr[buffer:final],color='#000000', label ='Vm')\n",
    "#ax_1A.plot(tmin_arr[buffer:final], E_k_arr[buffer:],color=col_arr[2], label='Ek')\n",
    "#ax_1A.plot(tmin_arr[buffer:final], E_cl_arr[buffer:], color=col_arr[1], label='ECl')\n",
    "ax_1A.plot(tmin_arr[buffer:final], E_gaba_arr[buffer:final], color='red', label='EGABA')\n",
    "ax_1A.tick_params(axis='both', which='major', labelsize=6)\n",
    "\n",
    "ax_1A.legend(bbox_to_anchor=(1,0.06), loc = 'lower left', frameon=False,fontsize=6)\n",
    "\n",
    "ax_1A.set_ylabel(\"Voltage(mv)\",fontsize=6)\n",
    "\n",
    "#ax_1A.set_ylim(-76,-54)\n",
    "custom_tick_positions = [50, 100, 150]\n",
    "custom_tick_labels = ['50', '100', '150']\n",
    "ax_1A.set_xticks(custom_tick_positions)\n",
    "ax_1A.set_xticklabels(custom_tick_labels)\n",
    "\n",
    "sns.set_context('paper')\n",
    "\n",
    "#####################################################################\n",
    "\n",
    "\n",
    "\n",
    "sns.despine(ax = ax_2A, offset=2)\n",
    "\n",
    "sns.set_context('paper')\n",
    "ax_2A.plot(tmin_arr[buffer:final], cl_arr[buffer:final],color=col_arr[1], label = '[Cl]i')\n",
    "\n",
    "\n",
    "ax_2A.set_ylabel(\"[Cl]i (mM)\",fontsize=6)\n",
    "\n",
    "ax_2A.set_xlabel(\"Time (min)\",fontsize=6)\n",
    "\n",
    "ax_2A.tick_params(axis='both', which='major', labelsize=6)\n",
    "\n",
    "# Set y-axis limits\n",
    "#ax_2A.set_ylim(3, 12)\n",
    "ax_2A.set_ylim(3, 13)\n",
    "\n",
    "mplt.subplots_adjust(hspace=0.35) \n",
    "\n",
    "#######################################\n",
    "\n",
    "\n",
    "file_name = \"ORCHID_KCC2Block_fixY.svg\"\n",
    "current_folder = os.getcwd()\n",
    "# Get the parent folder of the current working directory\n",
    "parent_folder = os.path.dirname(os.path.abspath(current_folder))\n",
    "hdf5_folder = os.path.join(parent_folder, \"Jupyter_outputs\")\n",
    "# Create the \"HDF5_files\" folder if it doesn't exist\n",
    "if not os.path.exists(hdf5_folder):\n",
    "    os.makedirs(hdf5_folder)\n",
    "\n",
    "file_name = os.path.join(hdf5_folder, file_name)\n",
    "\n",
    "#f1.savefig(file_name, dpi=2000, bbox_inches='tight')"
   ]
  },
  {
   "cell_type": "code",
   "execution_count": null,
   "id": "199eac4b",
   "metadata": {},
   "outputs": [],
   "source": []
  },
  {
   "cell_type": "code",
   "execution_count": null,
   "id": "80e90a37",
   "metadata": {},
   "outputs": [],
   "source": []
  }
 ],
 "metadata": {
  "kernelspec": {
   "display_name": "Python 3 (ipykernel)",
   "language": "python",
   "name": "python3"
  },
  "language_info": {
   "codemirror_mode": {
    "name": "ipython",
    "version": 3
   },
   "file_extension": ".py",
   "mimetype": "text/x-python",
   "name": "python",
   "nbconvert_exporter": "python",
   "pygments_lexer": "ipython3",
   "version": "3.9.7"
  }
 },
 "nbformat": 4,
 "nbformat_minor": 5
}
